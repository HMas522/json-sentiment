{
 "cells": [
  {
   "cell_type": "markdown",
   "metadata": {},
   "source": [
    "# Web Mining and Applied NLP (44-620)\n",
    "\n",
    "## Requests, JSON, and NLP\n",
    "\n",
    "### Student Name: Hayley Massey\n",
    "\n",
    "### https://github.com/HMas522/json-sentiment\n",
    "\n",
    "Perform the tasks described in the Markdown cells below.  When you have completed the assignment make sure your code cells have all been run (and have output beneath them) and ensure you have committed and pushed ALL of your changes to your assignment repository.\n",
    "\n",
    "Make sure you have [installed spaCy and its pipeline](https://spacy.io/usage#quickstart) and [spaCyTextBlob](https://spacy.io/universe/project/spacy-textblob)\n",
    "\n",
    "Every question that requires you to write code will have a code cell underneath it; you may either write your entire solution in that cell or write it in a python file (`.py`), then import and run the appropriate code to answer the question.\n",
    "\n",
    "This assignment requires that you write additional files (either JSON or pickle files); make sure to submit those files in your repository as well."
   ]
  },
  {
   "cell_type": "markdown",
   "metadata": {},
   "source": [
    "## Set Up Notebook and Downloads\n",
    "\n",
    "# Test example\n"
   ]
  },
  {
   "cell_type": "code",
   "execution_count": null,
   "metadata": {},
   "outputs": [],
   "source": [
    "# Create and activate a Python virtual environment. \n",
    "# Before starting the project, try all these imports FIRST\n",
    "# Address any errors you get running this code cell \n",
    "# by installing the necessary packages into your active Python environment.\n",
    "# Try to resolve issues using your materials and the web.\n",
    "# If that doesn't work, ask for help in the discussion forums.\n",
    "# You can't complete the exercises until you import these - start early! \n",
    "# We also import json and pickle (included in the Python Standard Library).\n",
    "\n",
    "import json\n",
    "import pickle\n",
    "\n",
    "import requests\n",
    "import spacy\n",
    "from spacytextblob.spacytextblob import SpacyTextBlob\n",
    "\n",
    "print('All prereqs installed.')\n",
    "!pip list"
   ]
  },
  {
   "cell_type": "code",
   "execution_count": null,
   "metadata": {},
   "outputs": [],
   "source": [
    "import spacy\n",
    "\n",
    "nlp = spacy.load(\"en_core_web_sm\")\n",
    "doc = nlp(\"This is a sentence.\")\n",
    "\n",
    "print(doc)"
   ]
  },
  {
   "cell_type": "markdown",
   "metadata": {},
   "source": [
    "## Question 1\n",
    "\n",
    "## Artist: Taylor Swift\n",
    "\n",
    "## Lyrics: Anti-Hero\n",
    "\n",
    "# https://api.lyrics.ovh/v1/Taylor%20Swift/Anti-Hero"
   ]
  },
  {
   "cell_type": "markdown",
   "metadata": {},
   "source": [
    "1. The following code accesses the [lyrics.ovh](https://lyricsovh.docs.apiary.io/#reference/0/lyrics-of-a-song/search) public api, searches for the lyrics of a song, and stores it in a dictionary object.  Write the resulting json to a file (either a JSON file or a pickle file; you choose). You will read in the contents of this file for future questions so we do not need to frequently access the API."
   ]
  },
  {
   "cell_type": "raw",
   "metadata": {},
   "source": [
    "{\n",
    "  \"lyrics\": \"Paroles de la chanson Anti-Hero par Taylor Swift\\r\\nI have this thing where I get older, but just never wiser\\nMidnights become my afternoons\\nWhen my depression works the graveyard shift, all of the people\\nI've ghosted stand there in the room\\n\\nI should not be left to my own devices\\nThey come with prices and vices\\nI end up in crisis\\n(Tale as old as time)\\nI wake up screaming from dreaming\\nOne day, I'll watch as you're leaving\\n'Cause you got tired of my scheming\\n(For the last time)\\n\\n\\nIt's me, hi\\nI'm the problem, it's me\\nAt teatime, everybody agrees\\nI'll stare directly at the sun, but never in the mirror\\nIt must be exhausting always rooting for the anti-hero\\n\\nSometimes, I feel like everybody is a sexy baby\\nAnd I'm a monster on the hill\\nToo big to hang out, slowly lurching toward your favorite city\\nPierced through the heart, but never killed\\n\\nDid you hear my covert narcissism I disguise as altruism\\nLike some kind of congressman?\\n(A tale as old as time)\\n\\nI wake up screaming from dreaming\\nOne day, I'll watch as you're leaving\\nAnd life will lose all its meaning\\n(For the last time)\\n\\nIt's me, hi\\nI'm the problem, it's me (I'm the problem, it's me)\\nAt teatime, everybody agrees\\nI'll stare directly at the sun, but never in the mirror\\nIt must be exhausting always rooting for the anti-hero\\n\\nI have this dream my daughter-in-law kills me for the money\\nShe thinks I left them in the will\\nThe family gathers around and reads it\\n\\nAnd then someone screams out\\n\\\"She's laughing up at us from hell\\\"\\n\\nIt's me, hi\\nI'm the problem, it's me\\nIt's me, hi\\nI'm the problem, it's me\\nIt's me, hi\\nEverybody agrees, everybody agrees\\n\\nIt's me, hi (Hi)\\nI'm the problem, it's me (I'm the problem, it's me)\\nAt teatime (Teatime), everybody agrees (Everybody agrees)\\nI'll stare directly at the sun, but never in the mirror\\nIt must be exhausting always rooting for the anti-hero\"\n",
    "}"
   ]
  },
  {
   "cell_type": "code",
   "execution_count": 13,
   "metadata": {},
   "outputs": [],
   "source": [
    "import requests\n",
    "import json\n",
    "\n",
    "result = json.loads(requests.get('https://api.lyrics.ovh/v1/Taylor%20Swift/Anti-Hero').text)\n"
   ]
  },
  {
   "cell_type": "code",
   "execution_count": 12,
   "metadata": {},
   "outputs": [
    {
     "name": "stdout",
     "output_type": "stream",
     "text": [
      "Data saved successfully.\n"
     ]
    }
   ],
   "source": [
    "import requests\n",
    "import json\n",
    "import pickle\n",
    "# Request for the API \n",
    "response = requests.get('https://api.lyrics.ovh/v1/Taylor Swift/Anti-Hero')\n",
    "result = response.json()\n",
    "\n",
    "if response.status_code == 200:\n",
    "    # Load the JSON data\n",
    "    result = response.json()\n",
    "    \n",
    "    # Save the JSON data to a JSON file\n",
    "    with open('lyrics.json', 'w') as json_file:\n",
    "        json.dump(result, json_file, indent=4)\n",
    "        \n",
    "    print(\"Data saved successfully.\")\n",
    "else:\n",
    "    print(\"Failed return data.\")"
   ]
  },
  {
   "cell_type": "markdown",
   "metadata": {},
   "source": [
    "# Question 2\n",
    "2. Read in the contents of your file.  Print the lyrics of the song (not the entire dictionary!) and use spaCyTextBlob to perform sentiment analysis on the lyrics.  Print the polarity score of the sentiment analysis.  Given that the range of the polarity score is `[-1.0,1.0]` which corresponds to how positive or negative the text in question is, do you think the lyrics have a more positive or negative connotaion?  Answer this question in a comment in your code cell."
   ]
  },
  {
   "cell_type": "code",
   "execution_count": null,
   "metadata": {},
   "outputs": [],
   "source": []
  },
  {
   "cell_type": "code",
   "execution_count": 15,
   "metadata": {},
   "outputs": [],
   "source": []
  },
  {
   "cell_type": "markdown",
   "metadata": {},
   "source": [
    "# Question 3\n",
    "3. Write a function that takes an artist, song, and filename, accesses the lyrics.ovh api to get the song lyrics, and writes the results to the specified filename.  Test this function by getting the lyrics to any four songs of your choice and storing them in different files."
   ]
  },
  {
   "cell_type": "code",
   "execution_count": null,
   "metadata": {},
   "outputs": [],
   "source": []
  },
  {
   "cell_type": "markdown",
   "metadata": {},
   "source": [
    "# Question 4\n",
    "4. Write a function that takes the name of a file that contains song lyrics, loads the file, performs sentiment analysis, and returns the polarity score.  Use this function to print the polarity scores (with the name of the song) of the three files you created in question 3.  Does the reported polarity match your understanding of the song's lyrics? Why or why not do you think that might be?  Answer the questions in either a comment in the code cell or a markdown cell under the code cell."
   ]
  },
  {
   "cell_type": "code",
   "execution_count": null,
   "metadata": {},
   "outputs": [],
   "source": []
  }
 ],
 "metadata": {
  "kernelspec": {
   "display_name": "Python 3",
   "language": "python",
   "name": "python3"
  },
  "language_info": {
   "codemirror_mode": {
    "name": "ipython",
    "version": 3
   },
   "file_extension": ".py",
   "mimetype": "text/x-python",
   "name": "python",
   "nbconvert_exporter": "python",
   "pygments_lexer": "ipython3",
   "version": "3.10.11"
  }
 },
 "nbformat": 4,
 "nbformat_minor": 4
}
