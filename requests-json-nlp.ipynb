{
 "cells": [
  {
   "cell_type": "markdown",
   "metadata": {},
   "source": [
    "# Web Mining and Applied NLP (44-620)\n",
    "\n",
    "## Requests, JSON, and NLP\n",
    "\n",
    "### Student Name: Hayley Massey\n",
    "\n",
    "### https://github.com/HMas522/json-sentiment\n",
    "\n",
    "Perform the tasks described in the Markdown cells below.  When you have completed the assignment make sure your code cells have all been run (and have output beneath them) and ensure you have committed and pushed ALL of your changes to your assignment repository.\n",
    "\n",
    "Make sure you have [installed spaCy and its pipeline](https://spacy.io/usage#quickstart) and [spaCyTextBlob](https://spacy.io/universe/project/spacy-textblob)\n",
    "\n",
    "Every question that requires you to write code will have a code cell underneath it; you may either write your entire solution in that cell or write it in a python file (`.py`), then import and run the appropriate code to answer the question.\n",
    "\n",
    "This assignment requires that you write additional files (either JSON or pickle files); make sure to submit those files in your repository as well."
   ]
  },
  {
   "cell_type": "markdown",
   "metadata": {},
   "source": [
    "## Set Up Notebook and Downloads\n",
    "\n",
    "# Test example\n"
   ]
  },
  {
   "cell_type": "code",
   "execution_count": null,
   "metadata": {},
   "outputs": [],
   "source": [
    "# Create and activate a Python virtual environment. \n",
    "# Before starting the project, try all these imports FIRST\n",
    "# Address any errors you get running this code cell \n",
    "# by installing the necessary packages into your active Python environment.\n",
    "# Try to resolve issues using your materials and the web.\n",
    "# If that doesn't work, ask for help in the discussion forums.\n",
    "# You can't complete the exercises until you import these - start early! \n",
    "# We also import json and pickle (included in the Python Standard Library).\n",
    "\n",
    "import json\n",
    "import pickle\n",
    "\n",
    "import requests\n",
    "import spacy\n",
    "from spacytextblob.spacytextblob import SpacyTextBlob\n",
    "\n",
    "print('All prereqs installed.')\n",
    "!pip list"
   ]
  },
  {
   "cell_type": "code",
   "execution_count": null,
   "metadata": {},
   "outputs": [],
   "source": [
    "import spacy\n",
    "\n",
    "nlp = spacy.load(\"en_core_web_sm\")\n",
    "doc = nlp(\"This is a sentence.\")\n",
    "\n",
    "print(doc)"
   ]
  },
  {
   "cell_type": "markdown",
   "metadata": {},
   "source": [
    "## Question 1\n",
    "\n",
    "## Artist: Taylor Swift\n",
    "\n",
    "## Lyrics: Anti-Hero\n",
    "\n",
    "# https://api.lyrics.ovh/v1/Taylor%20Swift/Anti-Hero"
   ]
  },
  {
   "cell_type": "markdown",
   "metadata": {},
   "source": [
    "1. The following code accesses the [lyrics.ovh](https://lyricsovh.docs.apiary.io/#reference/0/lyrics-of-a-song/search) public api, searches for the lyrics of a song, and stores it in a dictionary object.  Write the resulting json to a file (either a JSON file or a pickle file; you choose). You will read in the contents of this file for future questions so we do not need to frequently access the API."
   ]
  },
  {
   "cell_type": "raw",
   "metadata": {},
   "source": [
    "{\n",
    "  \"lyrics\": \"Paroles de la chanson Anti-Hero par Taylor Swift\\r\\nI have this thing where I get older, but just never wiser\\nMidnights become my afternoons\\nWhen my depression works the graveyard shift, all of the people\\nI've ghosted stand there in the room\\n\\nI should not be left to my own devices\\nThey come with prices and vices\\nI end up in crisis\\n(Tale as old as time)\\nI wake up screaming from dreaming\\nOne day, I'll watch as you're leaving\\n'Cause you got tired of my scheming\\n(For the last time)\\n\\n\\nIt's me, hi\\nI'm the problem, it's me\\nAt teatime, everybody agrees\\nI'll stare directly at the sun, but never in the mirror\\nIt must be exhausting always rooting for the anti-hero\\n\\nSometimes, I feel like everybody is a sexy baby\\nAnd I'm a monster on the hill\\nToo big to hang out, slowly lurching toward your favorite city\\nPierced through the heart, but never killed\\n\\nDid you hear my covert narcissism I disguise as altruism\\nLike some kind of congressman?\\n(A tale as old as time)\\n\\nI wake up screaming from dreaming\\nOne day, I'll watch as you're leaving\\nAnd life will lose all its meaning\\n(For the last time)\\n\\nIt's me, hi\\nI'm the problem, it's me (I'm the problem, it's me)\\nAt teatime, everybody agrees\\nI'll stare directly at the sun, but never in the mirror\\nIt must be exhausting always rooting for the anti-hero\\n\\nI have this dream my daughter-in-law kills me for the money\\nShe thinks I left them in the will\\nThe family gathers around and reads it\\n\\nAnd then someone screams out\\n\\\"She's laughing up at us from hell\\\"\\n\\nIt's me, hi\\nI'm the problem, it's me\\nIt's me, hi\\nI'm the problem, it's me\\nIt's me, hi\\nEverybody agrees, everybody agrees\\n\\nIt's me, hi (Hi)\\nI'm the problem, it's me (I'm the problem, it's me)\\nAt teatime (Teatime), everybody agrees (Everybody agrees)\\nI'll stare directly at the sun, but never in the mirror\\nIt must be exhausting always rooting for the anti-hero\"\n",
    "}"
   ]
  },
  {
   "cell_type": "code",
   "execution_count": 13,
   "metadata": {},
   "outputs": [],
   "source": [
    "import requests\n",
    "import json\n",
    "\n",
    "result = json.loads(requests.get('https://api.lyrics.ovh/v1/Taylor%20Swift/Anti-Hero').text)\n"
   ]
  },
  {
   "cell_type": "code",
   "execution_count": 12,
   "metadata": {},
   "outputs": [
    {
     "name": "stdout",
     "output_type": "stream",
     "text": [
      "Data saved successfully.\n"
     ]
    }
   ],
   "source": [
    "import requests\n",
    "import json\n",
    "import pickle\n",
    "# Request for the API \n",
    "response = requests.get('https://api.lyrics.ovh/v1/Taylor Swift/Anti-Hero')\n",
    "result = response.json()\n",
    "\n",
    "if response.status_code == 200:\n",
    "    # Load the JSON data\n",
    "    result = response.json()\n",
    "    \n",
    "    # Save the JSON data to a JSON file\n",
    "    with open('lyrics.json', 'w') as json_file:\n",
    "        json.dump(result, json_file, indent=4)\n",
    "        \n",
    "    print(\"Data saved successfully.\")\n",
    "else:\n",
    "    print(\"Failed return data.\")"
   ]
  },
  {
   "cell_type": "markdown",
   "metadata": {},
   "source": [
    "# Question 2\n",
    "2. Read in the contents of your file.  Print the lyrics of the song (not the entire dictionary!) and use spaCyTextBlob to perform sentiment analysis on the lyrics.  Print the polarity score of the sentiment analysis.  Given that the range of the polarity score is `[-1.0,1.0]` which corresponds to how positive or negative the text in question is, do you think the lyrics have a more positive or negative connotaion?  Answer this question in a comment in your code cell."
   ]
  },
  {
   "cell_type": "code",
   "execution_count": 20,
   "metadata": {},
   "outputs": [
    {
     "name": "stdout",
     "output_type": "stream",
     "text": [
      "Lyrics of the song:\n",
      "Paroles de la chanson Anti-Hero par Taylor Swift\n",
      "I have this thing where I get older, but just never wiser\n",
      "Midnights become my afternoons\n",
      "When my depression works the graveyard shift, all of the people\n",
      "I've ghosted stand there in the room\n",
      "\n",
      "I should not be left to my own devices\n",
      "They come with prices and vices\n",
      "I end up in crisis\n",
      "(Tale as old as time)\n",
      "I wake up screaming from dreaming\n",
      "One day, I'll watch as you're leaving\n",
      "'Cause you got tired of my scheming\n",
      "(For the last time)\n",
      "\n",
      "\n",
      "It's me, hi\n",
      "I'm the problem, it's me\n",
      "At teatime, everybody agrees\n",
      "I'll stare directly at the sun, but never in the mirror\n",
      "It must be exhausting always rooting for the anti-hero\n",
      "\n",
      "Sometimes, I feel like everybody is a sexy baby\n",
      "And I'm a monster on the hill\n",
      "Too big to hang out, slowly lurching toward your favorite city\n",
      "Pierced through the heart, but never killed\n",
      "\n",
      "Did you hear my covert narcissism I disguise as altruism\n",
      "Like some kind of congressman?\n",
      "(A tale as old as time)\n",
      "\n",
      "I wake up screaming from dreaming\n",
      "One day, I'll watch as you're leaving\n",
      "And life will lose all its meaning\n",
      "(For the last time)\n",
      "\n",
      "It's me, hi\n",
      "I'm the problem, it's me (I'm the problem, it's me)\n",
      "At teatime, everybody agrees\n",
      "I'll stare directly at the sun, but never in the mirror\n",
      "It must be exhausting always rooting for the anti-hero\n",
      "\n",
      "I have this dream my daughter-in-law kills me for the money\n",
      "She thinks I left them in the will\n",
      "The family gathers around and reads it\n",
      "\n",
      "And then someone screams out\n",
      "\"She's laughing up at us from hell\"\n",
      "\n",
      "It's me, hi\n",
      "I'm the problem, it's me\n",
      "It's me, hi\n",
      "I'm the problem, it's me\n",
      "It's me, hi\n",
      "Everybody agrees, everybody agrees\n",
      "\n",
      "It's me, hi (Hi)\n",
      "I'm the problem, it's me (I'm the problem, it's me)\n",
      "At teatime (Teatime), everybody agrees (Everybody agrees)\n",
      "I'll stare directly at the sun, but never in the mirror\n",
      "It must be exhausting always rooting for the anti-hero\n",
      "Polarity score of sentiment analysis: 0.0507936507936508\n"
     ]
    }
   ],
   "source": [
    "import requests\n",
    "import json\n",
    "import spacy\n",
    "from spacytextblob.spacytextblob import SpacyTextBlob\n",
    "\n",
    "# Load spaCy language model\n",
    "nlp = spacy.load('en_core_web_sm')\n",
    "nlp.add_pipe('spacytextblob')\n",
    "\n",
    "# Read the contents of the file\n",
    "with open('lyrics.json', 'r') as json_file:\n",
    "    results = json.load(json_file)\n",
    "\n",
    "# Check if the JSON data has the key 'lyrics'\n",
    "if 'lyrics' in results:\n",
    "    # Extract the lyrics\n",
    "    song = results['lyrics']\n",
    "    \n",
    "    # Process the lyrics using spaCy\n",
    "    doc = nlp(song)\n",
    "\n",
    "    # Perform sentiment analysis\n",
    "    sentiment_score = doc._.polarity\n",
    "\n",
    "    # Print the lyrics\n",
    "    print(\"Lyrics of the song:\")\n",
    "    print(song)\n",
    "\n",
    "    # Print the polarity score of the sentiment analysis\n",
    "    print(\"Polarity score of sentiment analysis:\", sentiment_score)\n",
    "else:\n",
    "    print(\"No lyrics found in the result.\")\n"
   ]
  },
  {
   "cell_type": "code",
   "execution_count": 21,
   "metadata": {},
   "outputs": [],
   "source": [
    "# I would say it is positive, since it is a postive integer. It is still a depressing song, so its not at 1.0 on the scale"
   ]
  },
  {
   "cell_type": "markdown",
   "metadata": {},
   "source": [
    "# Question 3\n",
    "3. Write a function that takes an artist, song, and filename, accesses the lyrics.ovh api to get the song lyrics, and writes the results to the specified filename.  Test this function by getting the lyrics to any four songs of your choice and storing them in different files."
   ]
  },
  {
   "cell_type": "code",
   "execution_count": 23,
   "metadata": {},
   "outputs": [
    {
     "name": "stdout",
     "output_type": "stream",
     "text": [
      "Lyrics for 'She Works Out Too Much' by 'MGMT' have been written to 'she_works_out_too_much_lyrics.json'.\n",
      "Lyrics for 'Anti-Hero' by 'Taylor Swift' have been written to 'anti_hero_lyrics.json'.\n",
      "Lyrics for 'nine in the afternoon' by 'panic! at the disco' have been written to 'nine_in_the_afternoon_lyrics.json'.\n",
      "Lyrics for 'help is on the way' by 'Rise Against' have been written to 'help_is_on_the way_lyrics.json'.\n"
     ]
    }
   ],
   "source": [
    "import requests\n",
    "import json\n",
    "\n",
    "# definining attributes which are artist, song, filename \n",
    "def write_lyrics_to_json(artist, song, filename):\n",
    "    # define the url and the function f\n",
    "    url = f\"https://api.lyrics.ovh/v1/{artist}/{song}\"\n",
    "\n",
    "    # Send request to API using GET function\n",
    "    response = requests.get(url)\n",
    "\n",
    "    # Integer Code of responded HTTP Status, e.g. 404 or 200. 404 is not found & 200 is successful execution\n",
    "    if response.status_code == 200:\n",
    "        # Extract the JSON data from the response\n",
    "        data = response.json()\n",
    "\n",
    "        # Check if lyrics are available\n",
    "        if 'lyrics' in data:\n",
    "            # Write the JSON data to the specified file with 'w' being write mode \n",
    "            with open(filename, 'w') as file:\n",
    "            # Making the file more readable as recomended when creating json files. \n",
    "                json.dump(data, file, indent=4)\n",
    "# printing out the results with formatting -f song artist and filename defined above\n",
    "            print(f\"Lyrics for '{song}' by '{artist}' have been written to '{filename}'.\")\n",
    "        else:\n",
    "            print(f\"No lyrics found for '{song}' by '{artist}'.\")\n",
    "    else:\n",
    "        print(f\"Failed to retrieve lyrics for '{song}' by '{artist}'.\")\n",
    "\n",
    "# Test the function with the provided songs\n",
    "write_lyrics_to_json(\"MGMT\", \"She Works Out Too Much\", \"she_works_out_too_much_lyrics.json\")\n",
    "write_lyrics_to_json(\"Taylor Swift\", \"Anti-Hero\", \"anti_hero_lyrics.json\")\n",
    "write_lyrics_to_json(\"panic! at the disco\", \"nine in the afternoon\", \"nine_in_the_afternoon_lyrics.json\")\n",
    "write_lyrics_to_json(\"Rise Against\", \"help is on the way\", \"help_is_on_the way_lyrics.json\")\n"
   ]
  },
  {
   "cell_type": "markdown",
   "metadata": {},
   "source": [
    "# Question 4\n",
    "4. Write a function that takes the name of a file that contains song lyrics, loads the file, performs sentiment analysis, and returns the polarity score.  Use this function to print the polarity scores (with the name of the song) of the three files you created in question 3.  Does the reported polarity match your understanding of the song's lyrics? Why or why not do you think that might be?  Answer the questions in either a comment in the code cell or a markdown cell under the code cell."
   ]
  },
  {
   "cell_type": "code",
   "execution_count": null,
   "metadata": {},
   "outputs": [],
   "source": []
  }
 ],
 "metadata": {
  "kernelspec": {
   "display_name": "Python 3",
   "language": "python",
   "name": "python3"
  },
  "language_info": {
   "codemirror_mode": {
    "name": "ipython",
    "version": 3
   },
   "file_extension": ".py",
   "mimetype": "text/x-python",
   "name": "python",
   "nbconvert_exporter": "python",
   "pygments_lexer": "ipython3",
   "version": "3.10.11"
  }
 },
 "nbformat": 4,
 "nbformat_minor": 4
}
